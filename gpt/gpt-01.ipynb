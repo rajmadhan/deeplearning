{
 "cells": [
  {
   "cell_type": "code",
   "execution_count": 1,
   "metadata": {},
   "outputs": [],
   "source": [
    "import torch\n",
    "import torch.nn as nn\n",
    "import torch.nn.functional as F\n",
    "import matplotlib.pyplot as plt\n",
    "%matplotlib inline\n",
    "import numpy as np"
   ]
  },
  {
   "cell_type": "code",
   "execution_count": 2,
   "metadata": {},
   "outputs": [
    {
     "name": "stdout",
     "output_type": "stream",
     "text": [
      "dataset len:  1115394\n",
      "First Citizen:\n",
      "Before we proceed any further, hear me speak.\n",
      "\n",
      "All:\n",
      "Speak, speak.\n",
      "\n",
      "First Citizen:\n",
      "You are all resolved rather to die than to famish?\n",
      "\n",
      "All:\n",
      "Resolved. resolved.\n",
      "\n",
      "First Citizen:\n",
      "First, you know Caius Marcius is chief enemy to the people.\n",
      "\n",
      "All:\n",
      "We know't, we know't.\n",
      "\n",
      "First Citizen:\n",
      "Let us kill him, and we'll have corn at our own price.\n",
      "Is't a verdict?\n",
      "\n",
      "All:\n",
      "No more talking on't; let it be done: away, away!\n",
      "\n",
      "Second Citizen:\n",
      "One word, good citizens.\n",
      "\n",
      "First Citizen:\n",
      "We are accounted poor citizens, the patricians good.\n",
      "What authority surfeits on would relieve us: if they\n",
      "would yield us but the superfluity, while it were\n",
      "wholesome, we might guess they relieved us humanely;\n",
      "but they think we are too dear: the leanness that\n",
      "afflicts us, the object of our misery, is as an\n",
      "inventory to particularise their abundance; our\n",
      "sufferance is a gain to them Let us revenge this with\n",
      "our pikes, ere we become rakes: for the gods know I\n",
      "speak this in hunger for bread, not in thirst for revenge.\n",
      "\n",
      "\n"
     ]
    }
   ],
   "source": [
    "text = open('tiny-shakespeare.txt', 'r', encoding='utf-8').read()\n",
    "print('dataset len: ', len(text))\n",
    "print(text[:1000])"
   ]
  },
  {
   "cell_type": "code",
   "execution_count": 3,
   "metadata": {},
   "outputs": [
    {
     "name": "stdout",
     "output_type": "stream",
     "text": [
      "\n",
      " !$&',-.3:;?ABCDEFGHIJKLMNOPQRSTUVWXYZabcdefghijklmnopqrstuvwxyz\n",
      "vocab_size:  65\n",
      "65 65\n",
      "hello world!!!\n"
     ]
    }
   ],
   "source": [
    "chars = sorted(list(set(c for c in text)))\n",
    "print(''.join(chars))\n",
    "stoi = {s: i for i, s in enumerate(chars)}\n",
    "itos = {i: s for s, i in stoi.items()}\n",
    "vocab_size = len(chars)\n",
    "print('vocab_size: ', vocab_size)\n",
    "print(len(stoi), len(itos))\n",
    "encode = lambda s: [stoi[c] for c in s]\n",
    "decode = lambda l: ''.join([itos[i] for i in l])\n",
    "print(decode(encode('hello world!!!')))"
   ]
  },
  {
   "cell_type": "code",
   "execution_count": 4,
   "metadata": {},
   "outputs": [
    {
     "name": "stdout",
     "output_type": "stream",
     "text": [
      "train size:  1003854\n",
      "val size:  111540\n"
     ]
    }
   ],
   "source": [
    "data = torch.tensor(encode(text), dtype=torch.long)\n",
    "train_data = data[:int(0.9*len(data))]\n",
    "val_data = data[int(0.9*len(data)):]\n",
    "print('train size: ', len(train_data))\n",
    "print('val size: ', len(val_data))"
   ]
  },
  {
   "cell_type": "code",
   "execution_count": 5,
   "metadata": {},
   "outputs": [
    {
     "name": "stdout",
     "output_type": "stream",
     "text": [
      "input:  [24] , output:  43\n",
      "input:  [24, 43] , output:  58\n",
      "input:  [24, 43, 58] , output:  5\n",
      "input:  [24, 43, 58, 5] , output:  57\n",
      "input:  [24, 43, 58, 5, 57] , output:  1\n",
      "input:  [24, 43, 58, 5, 57, 1] , output:  46\n",
      "input:  [24, 43, 58, 5, 57, 1, 46] , output:  43\n",
      "input:  [24, 43, 58, 5, 57, 1, 46, 43] , output:  39\n",
      "input:  [44] , output:  53\n",
      "input:  [44, 53] , output:  56\n",
      "input:  [44, 53, 56] , output:  1\n",
      "input:  [44, 53, 56, 1] , output:  58\n",
      "input:  [44, 53, 56, 1, 58] , output:  46\n",
      "input:  [44, 53, 56, 1, 58, 46] , output:  39\n",
      "input:  [44, 53, 56, 1, 58, 46, 39] , output:  58\n",
      "input:  [44, 53, 56, 1, 58, 46, 39, 58] , output:  1\n",
      "input:  [52] , output:  58\n",
      "input:  [52, 58] , output:  1\n",
      "input:  [52, 58, 1] , output:  58\n",
      "input:  [52, 58, 1, 58] , output:  46\n",
      "input:  [52, 58, 1, 58, 46] , output:  39\n",
      "input:  [52, 58, 1, 58, 46, 39] , output:  58\n",
      "input:  [52, 58, 1, 58, 46, 39, 58] , output:  1\n",
      "input:  [52, 58, 1, 58, 46, 39, 58, 1] , output:  46\n",
      "input:  [25] , output:  17\n",
      "input:  [25, 17] , output:  27\n",
      "input:  [25, 17, 27] , output:  10\n",
      "input:  [25, 17, 27, 10] , output:  0\n",
      "input:  [25, 17, 27, 10, 0] , output:  21\n",
      "input:  [25, 17, 27, 10, 0, 21] , output:  1\n",
      "input:  [25, 17, 27, 10, 0, 21, 1] , output:  54\n",
      "input:  [25, 17, 27, 10, 0, 21, 1, 54] , output:  39\n"
     ]
    }
   ],
   "source": [
    "torch.manual_seed(1337)\n",
    "batch_size = 4\n",
    "block_size = 8\n",
    "\n",
    "def get_batch(split):\n",
    "    data = train_data if split == 'train' else val_data\n",
    "    ix = torch.randint(0, len(data)-block_size, (batch_size,))\n",
    "    x = torch.stack([data[i:i+block_size] for i in ix])\n",
    "    y = torch.stack([data[i+1:i+block_size+1] for i in ix])\n",
    "    return x, y\n",
    "\n",
    "x, y = get_batch('train')\n",
    "for b in range(batch_size):\n",
    "    for t in range(block_size):\n",
    "        context = x[b, :t+1]\n",
    "        target = y[b, t]\n",
    "        print('input: ', context.tolist(), ', output: ', target.item())"
   ]
  },
  {
   "cell_type": "markdown",
   "metadata": {},
   "source": [
    "### n/w layers"
   ]
  },
  {
   "cell_type": "code",
   "execution_count": 29,
   "metadata": {},
   "outputs": [],
   "source": [
    "class BigramLanguageModel(nn.Module):\n",
    "\n",
    "    def __init__(self, vocab_size) -> None:\n",
    "        super().__init__()\n",
    "        self.token_embed_table = nn.Embedding(vocab_size, vocab_size)\n",
    "    \n",
    "    def forward(self, idx):\n",
    "        # idx - B x T\n",
    "        logits = self.token_embed_table(idx)\n",
    "        return logits\n",
    "    \n",
    "    def loss(self, logits, targets):\n",
    "        B, T, C = logits.shape\n",
    "        loss = F.cross_entropy(logits.view(B*T, C), targets.view(B*T), reduction='mean')\n",
    "        return loss\n",
    "    \n",
    "    def generate(self, idx, max_new_tokens):\n",
    "        for _ in range(max_new_tokens):\n",
    "            logits = self(idx)\n",
    "            logits = logits[:,-1,:]\n",
    "            probs = torch.softmax(logits, dim=-1)\n",
    "            idx_next = torch.multinomial(probs, 1, replacement=True)\n",
    "            idx = torch.cat((idx, idx_next), dim=1)\n",
    "        return idx"
   ]
  },
  {
   "cell_type": "code",
   "execution_count": 13,
   "metadata": {},
   "outputs": [],
   "source": [
    "from typing import Any\n",
    "\n",
    "\n",
    "class SelfAttention(nn.Module):\n",
    "    def __init__(self, C, headsize) -> None:\n",
    "        super().__init__()\n",
    "        self.q = nn.randn((C, headsize))\n",
    "        self.k = nn.randn((C, headsize))\n",
    "        self.v = nn.randn((C, headsize))\n",
    "    \n",
    "    def __call__(self, x) -> torch.tensor: # x: B x T x C\n",
    "        qx = x @ self.q # B x T x C\n",
    "        kx = x @ self.k # B x T x C\n",
    "        vx = x @ self.v # B x T x C\n",
    "        qkx = qx @ kx.transpose(-1, -2) # B x T x T\n",
    "        wt = torch.tril(x.shape[1]) # T x T\n",
    "        wt[wt==0] = -torch.float('inf')\n",
    "        wt = nn.Softmax(wt)\n",
    "        y = (qkx * wt) @ vx # B x T x C\n",
    "        return y"
   ]
  },
  {
   "cell_type": "code",
   "execution_count": 30,
   "metadata": {},
   "outputs": [
    {
     "name": "stdout",
     "output_type": "stream",
     "text": [
      "torch.Size([4, 8]) torch.Size([4, 8])\n",
      "loss:  tensor(4.9153, grad_fn=<NllLossBackward0>)\n",
      "expected loss:  tensor(4.1744)\n"
     ]
    }
   ],
   "source": [
    "x, y = get_batch('train')\n",
    "print(x.shape, y.shape)\n",
    "m = BigramLanguageModel(vocab_size=vocab_size)\n",
    "logits = m(x)\n",
    "loss = m.loss(logits, y)\n",
    "print('loss: ', loss)\n",
    "print('expected loss: ', -torch.log(torch.tensor(1./vocab_size)))"
   ]
  },
  {
   "cell_type": "code",
   "execution_count": 34,
   "metadata": {},
   "outputs": [
    {
     "name": "stdout",
     "output_type": "stream",
     "text": [
      "'aHKuUWBCTCcxt,mpII3eMbbkcdPJAiu:giVWN jlJYYHZWE,P3djltHLtHR whjJr,gj,GP&TcDcIyaBQVysp.3cEN$$L\n",
      "D?RtHq\n",
      "torch.Size([101])\n",
      "tensor([ 5, 39, 20, 23, 59, 33, 35, 14, 15, 32, 15, 41, 62, 58,  6, 51, 54, 21,\n",
      "        21,  9, 43, 25, 40, 40, 49, 41, 42, 28, 22, 13, 47, 59, 10, 45, 47, 34,\n",
      "        35, 26,  1, 48, 50, 22, 37, 37, 20, 38, 35, 17,  6, 28,  9, 42, 48, 50,\n",
      "        58, 20, 24, 58, 20, 30,  1, 61, 46, 48, 22, 56,  6, 45, 48,  6, 19, 28,\n",
      "         4, 32, 41, 16, 41, 21, 63, 39, 14, 29, 34, 63, 57, 54,  8,  9, 41, 17,\n",
      "        26,  3,  3, 24,  0, 16, 12, 30, 58, 20, 55])\n"
     ]
    }
   ],
   "source": [
    "out = m.generate(torch.randint(0, vocab_size, (1,1)), 100)[0]\n",
    "print(decode(out.tolist()))\n",
    "print(out.shape)\n",
    "print(out)"
   ]
  },
  {
   "cell_type": "code",
   "execution_count": 36,
   "metadata": {},
   "outputs": [],
   "source": [
    "optim = torch.optim.AdamW(m.parameters(), lr=1e-3)"
   ]
  },
  {
   "cell_type": "code",
   "execution_count": 45,
   "metadata": {},
   "outputs": [
    {
     "name": "stdout",
     "output_type": "stream",
     "text": [
      "2.4659721851348877\n"
     ]
    }
   ],
   "source": [
    "batch_size = 32\n",
    "for i in range(10000):\n",
    "    x, y = get_batch('train')\n",
    "    logits = m(x)\n",
    "    loss = m.loss(logits, y)\n",
    "    optim.zero_grad(set_to_none=True)\n",
    "    loss.backward()\n",
    "    optim.step()\n",
    "print(loss.item())"
   ]
  },
  {
   "cell_type": "code",
   "execution_count": 47,
   "metadata": {},
   "outputs": [
    {
     "name": "stdout",
     "output_type": "stream",
     "text": [
      "\n",
      "NELLERWino t o r. men,\n",
      "Frnt tyoraksheishouging.\n",
      "Misir sugrghertit nke the wo I maral, anecyorest blorke. te pern d,\n",
      "Thiven y s,\n",
      "Th tenofire danged wis w,\n",
      "Pamyork lle'st s agavel e cer.\n",
      "Hitongno me whishen me IFomse y istety R wis; thengimid gNICOFRD:\n",
      "\n",
      "GAs tlirveecro pous momoulenan whisirve besthos w e nthe h.\n",
      "KI agerisupof,\n",
      "Bed ithe'd n te acet s! de jef bo an hace y, IN iserso u-we be hin ty sts, cu murmupash angshot akes, macoo ouly is t mucef hed: ivougonghanterd inch.\n",
      "Y ckle tr' t he fodese\n"
     ]
    }
   ],
   "source": [
    "print(decode(m.generate(torch.zeros((1,1), dtype=torch.long), 500)[0].tolist()))"
   ]
  }
 ],
 "metadata": {
  "kernelspec": {
   "display_name": "dl",
   "language": "python",
   "name": "python3"
  },
  "language_info": {
   "codemirror_mode": {
    "name": "ipython",
    "version": 3
   },
   "file_extension": ".py",
   "mimetype": "text/x-python",
   "name": "python",
   "nbconvert_exporter": "python",
   "pygments_lexer": "ipython3",
   "version": "3.12.4"
  }
 },
 "nbformat": 4,
 "nbformat_minor": 2
}
