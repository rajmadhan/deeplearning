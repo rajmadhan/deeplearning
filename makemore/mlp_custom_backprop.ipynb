{
 "cells": [
  {
   "cell_type": "code",
   "execution_count": 1,
   "metadata": {},
   "outputs": [],
   "source": [
    "import torch\n",
    "import torch.nn.functional as F\n",
    "import matplotlib.pyplot as plt\n",
    "%matplotlib inline\n",
    "import numpy as np"
   ]
  },
  {
   "cell_type": "code",
   "execution_count": 2,
   "metadata": {},
   "outputs": [
    {
     "data": {
      "text/plain": [
       "['emma',\n",
       " 'olivia',\n",
       " 'ava',\n",
       " 'isabella',\n",
       " 'sophia',\n",
       " 'charlotte',\n",
       " 'mia',\n",
       " 'amelia',\n",
       " 'harper',\n",
       " 'evelyn']"
      ]
     },
     "execution_count": 2,
     "metadata": {},
     "output_type": "execute_result"
    }
   ],
   "source": [
    "words = open('names.txt', 'r').read().splitlines()\n",
    "words[:10]"
   ]
  },
  {
   "cell_type": "code",
   "execution_count": 3,
   "metadata": {},
   "outputs": [
    {
     "data": {
      "text/plain": [
       "32033"
      ]
     },
     "execution_count": 3,
     "metadata": {},
     "output_type": "execute_result"
    }
   ],
   "source": [
    "len(words)"
   ]
  },
  {
   "cell_type": "code",
   "execution_count": 4,
   "metadata": {},
   "outputs": [
    {
     "name": "stdout",
     "output_type": "stream",
     "text": [
      "['a', 'b', 'c', 'd', 'e', 'f', 'g', 'h', 'i', 'j', 'k', 'l', 'm', 'n', 'o', 'p', 'q', 'r', 's', 't', 'u', 'v', 'w', 'x', 'y', 'z']\n",
      "{1: 'a', 2: 'b', 3: 'c', 4: 'd', 5: 'e', 6: 'f', 7: 'g', 8: 'h', 9: 'i', 10: 'j', 11: 'k', 12: 'l', 13: 'm', 14: 'n', 15: 'o', 16: 'p', 17: 'q', 18: 'r', 19: 's', 20: 't', 21: 'u', 22: 'v', 23: 'w', 24: 'x', 25: 'y', 26: 'z', 0: '.'}\n"
     ]
    }
   ],
   "source": [
    "chars = sorted(list(set(''.join(words))))\n",
    "print(chars)\n",
    "stoi = {s: i+1 for i,s in enumerate(chars)}\n",
    "stoi['.'] = 0\n",
    "itos = {i: s for s,i in stoi.items()}\n",
    "print(itos)\n",
    "vocab_size = len(itos)"
   ]
  },
  {
   "cell_type": "markdown",
   "metadata": {},
   "source": [
    "### build the dataset"
   ]
  },
  {
   "cell_type": "code",
   "execution_count": 5,
   "metadata": {},
   "outputs": [],
   "source": [
    "device = torch.device('cpu')\n",
    "# device = torch.device('cuda')"
   ]
  },
  {
   "cell_type": "code",
   "execution_count": 6,
   "metadata": {},
   "outputs": [
    {
     "name": "stdout",
     "output_type": "stream",
     "text": [
      "torch.int64 torch.Size([182625, 3]) torch.int64 torch.Size([182625])\n",
      "torch.int64 torch.Size([22655, 3]) torch.int64 torch.Size([22655])\n",
      "torch.int64 torch.Size([22866, 3]) torch.int64 torch.Size([22866])\n"
     ]
    }
   ],
   "source": [
    "block_size = 3\n",
    "def build_dataset(words):\n",
    "    X, Y = [], []\n",
    "    for w in words:\n",
    "        # print(w)\n",
    "        context = [0]*block_size\n",
    "        for ch in w + '.':\n",
    "            ix = stoi[ch]\n",
    "            X.append(context)\n",
    "            Y.append(ix)\n",
    "            # print(''.join(itos[i] for i in context), '---->', itos[ix])\n",
    "            context = context[1:] + [ix]\n",
    "\n",
    "    X = torch.tensor(X).to(device)\n",
    "    Y = torch.tensor(Y).to(device)\n",
    "    print(X.dtype, X.shape, Y.dtype, Y.shape)\n",
    "    return X, Y\n",
    "\n",
    "import random\n",
    "random.seed(42)\n",
    "random.shuffle(words)\n",
    "n1 = int(0.8*len(words))\n",
    "n2 = int(0.9*len(words))\n",
    "Xtr, Ytr = build_dataset(words[:n1])        # 80%\n",
    "Xdev, Ydev = build_dataset(words[n1:n2])    # 10%\n",
    "Xte, Yte = build_dataset(words[n2:])        # 10%"
   ]
  },
  {
   "cell_type": "markdown",
   "metadata": {},
   "source": [
    "### implementing cross entropy loss"
   ]
  },
  {
   "cell_type": "code",
   "execution_count": 7,
   "metadata": {},
   "outputs": [
    {
     "name": "stdout",
     "output_type": "stream",
     "text": [
      "12297\n"
     ]
    }
   ],
   "source": [
    "n_embd = 10 # dimensionality of the character embedding vectors\n",
    "n_hidden = 200 # number of neurons in the hidden layer of the MLP\n",
    "\n",
    "g = torch.Generator().manual_seed(2147483647)\n",
    "C = torch.randn((vocab_size,n_embd), generator=g)\n",
    "W1 = torch.randn((n_embd * block_size, n_hidden), generator=g) * (5/3) / ((n_embd * block_size)**0.5)\n",
    "b1 = torch.randn(n_hidden, generator=g) * 0.01\n",
    "W2 = torch.randn((n_hidden, vocab_size), generator=g) * 0.01\n",
    "b2 = torch.randn(vocab_size, generator=g) * 0\n",
    "\n",
    "bngain = torch.ones((1, n_hidden))\n",
    "bnbias = torch.zeros((1, n_hidden))\n",
    "bnmean_running = torch.zeros((1, n_hidden))\n",
    "bnstd_running = torch.ones((1, n_hidden))\n",
    "parameters = [C, W1, b1, W2, b2, bngain, bnbias]\n",
    "print(sum(p.nelement() for p in parameters))\n",
    "for p in parameters:\n",
    "    p.requires_grad = True"
   ]
  },
  {
   "cell_type": "code",
   "execution_count": 8,
   "metadata": {},
   "outputs": [],
   "source": [
    "def cmp(s, dt, t):\n",
    "    ex = torch.all(dt == t.grad).item()\n",
    "    app = torch.allclose(dt, t.grad)\n",
    "    maxdiff = (dt - t.grad).abs().max().item()\n",
    "    print(f'{s:15s} | exact: {str(ex):5s} | approximate: {str(app):5s} | maxdiff: {maxdiff}')"
   ]
  },
  {
   "cell_type": "code",
   "execution_count": 9,
   "metadata": {},
   "outputs": [
    {
     "name": "stdout",
     "output_type": "stream",
     "text": [
      "12297\n",
      "dlogprops       | exact: True  | approximate: True  | maxdiff: 0.0\n",
      "dprobs          | exact: True  | approximate: True  | maxdiff: 0.0\n",
      "dcountsuminv    | exact: True  | approximate: True  | maxdiff: 0.0\n",
      "dcountsum       | exact: True  | approximate: True  | maxdiff: 0.0\n",
      "dcounts         | exact: True  | approximate: True  | maxdiff: 0.0\n",
      "dnormlogits     | exact: True  | approximate: True  | maxdiff: 0.0\n",
      "dlogitsmax      | exact: True  | approximate: True  | maxdiff: 0.0\n",
      "dlogits         | exact: True  | approximate: True  | maxdiff: 0.0\n",
      "dh              | exact: True  | approximate: True  | maxdiff: 0.0\n",
      "dW2             | exact: True  | approximate: True  | maxdiff: 0.0\n",
      "db2             | exact: True  | approximate: True  | maxdiff: 0.0\n",
      "dhpreact        | exact: False | approximate: True  | maxdiff: 5.820766091346741e-11\n",
      "dbngain         | exact: False | approximate: True  | maxdiff: 2.3283064365386963e-10\n",
      "dbnraw          | exact: False | approximate: True  | maxdiff: 5.820766091346741e-11\n",
      "dbnbias         | exact: False | approximate: True  | maxdiff: 4.656612873077393e-10\n",
      "dbnstdinv       | exact: False | approximate: True  | maxdiff: 3.4924596548080444e-10\n",
      "dbnvar          | exact: False | approximate: True  | maxdiff: 8.731149137020111e-11\n",
      "dbndiff2        | exact: False | approximate: True  | maxdiff: 3.637978807091713e-12\n",
      "dbndiff         | exact: False | approximate: True  | maxdiff: 5.820766091346741e-11\n",
      "dbnmeani        | exact: False | approximate: True  | maxdiff: 4.656612873077393e-10\n",
      "dhprebn         | exact: False | approximate: True  | maxdiff: 1.1641532182693481e-10\n",
      "dembcat         | exact: False | approximate: True  | maxdiff: 3.4924596548080444e-10\n",
      "dW1             | exact: False | approximate: True  | maxdiff: 6.984919309616089e-10\n",
      "db1             | exact: False | approximate: True  | maxdiff: 4.3655745685100555e-10\n",
      "demb            | exact: False | approximate: True  | maxdiff: 3.4924596548080444e-10\n",
      "dC              | exact: False | approximate: True  | maxdiff: 6.984919309616089e-10\n"
     ]
    }
   ],
   "source": [
    "import torch\n",
    "import torch.nn.functional as F\n",
    "\n",
    "batch_size = 32\n",
    "ix = torch.randint(0, Xtr.shape[0], (batch_size,), generator=g)\n",
    "Xb = Xtr[ix]\n",
    "Yb = Ytr[ix]\n",
    "\n",
    "parameters = [C, W1, b1, W2, b2, bngain, bnbias]\n",
    "print(sum(p.nelement() for p in parameters))\n",
    "for p in parameters:\n",
    "    p.requires_grad = True\n",
    "    p.grad = None\n",
    "\n",
    "# forward pass\n",
    "emb = C[Xb] # embed the characters into vectors - (batch_size x block_size x n_embed)\n",
    "embcat = emb.view(emb.shape[0], -1) # concatenate the vectors - (batch_size x (block_size x n_embed))\n",
    "hprebn = embcat @ W1 + b1 # hidden layer pre-activation - (batch_size x n_hidden)\n",
    "bnmeani = 1.0/batch_size * hprebn.sum(dim=0, keepdim=True)\n",
    "bndiff = hprebn - bnmeani\n",
    "bndiff2 = bndiff ** 2\n",
    "bnvar = 1.0/(batch_size-1) * bndiff2.sum(dim=0, keepdim=True)\n",
    "bnstdinv = (bnvar + 1e-5)**-0.5\n",
    "bnraw = bndiff * bnstdinv\n",
    "hpreact = bngain * bnraw + bnbias # (batch_size x n_hidden)\n",
    "h = torch.tanh(hpreact) # hidden layer - (batch_size x n_hidden)\n",
    "logits = h @ W2 + b2 # output layer - (batch_size x vocab_size)\n",
    "# logits = torch.rand((batch_size, 27), requires_grad=True)\n",
    "logitsmax = logits.max(dim=1, keepdim=True).values # (batch_size x vocab_size)\n",
    "normlogits = logits - logitsmax # (batch_size x vocab_size)\n",
    "counts = normlogits.exp() # (batch_size x vocab_size)\n",
    "countsum = counts.sum(dim=1, keepdim=True) # (batch_size x 1)\n",
    "countsuminv = countsum ** -1 # (batch_size x 1)\n",
    "probs = counts * countsuminv # (batch_size x vocab_size)\n",
    "logprobs = probs.log() # (batch_size x vocab_size)\n",
    "loss = -logprobs[torch.arange(batch_size), Yb].mean() # 1\n",
    "\n",
    "for t in [emb, C, hprebn, embcat, W1, b1, bnmeani, bndiff, bndiff2, bnvar, bndiff, bnstdinv, bngain, bnraw, bnbias, hpreact, h, W2, b2, logits, logitsmax, normlogits, counts, countsum, countsuminv, probs, logprobs, loss]:\n",
    "    t.retain_grad()\n",
    "loss.backward()\n",
    "# backward pass\n",
    "dlogprops = torch.zeros(logprobs.shape)\n",
    "dlogprops[torch.arange(batch_size), Yb] = -1.0/batch_size\n",
    "dprobs = (1.0 / probs) * dlogprops\n",
    "dcountsuminv = (counts * dprobs).sum(dim=1, keepdim=True)\n",
    "dcountsum = (-countsum**-2) * dcountsuminv\n",
    "dcounts = torch.ones_like(counts) * dcountsum\n",
    "dcounts += countsuminv * dprobs\n",
    "dnormlogits = counts * dcounts\n",
    "dlogitsmax = -dnormlogits.sum(dim=1, keepdim=True) # for: -logitsmax in: normlogits = logits - logitsmax\n",
    "dlogits = F.one_hot(logits.argmax(dim=1), num_classes=logits.shape[1]) * dlogitsmax\n",
    "dlogits += dnormlogits.clone()\n",
    "dh = dlogits @ W2.T\n",
    "dW2 = h.T @ dlogits\n",
    "db2 = dlogits.sum(dim=0, keepdim=True)\n",
    "dhpreact = (1.0 - h**2) * dh\n",
    "# dhpreact = (1.0/(torch.arccosh(hpreact)**2)) * dh\n",
    "dbngain = (bnraw * dhpreact).sum(dim=0, keepdim=True)\n",
    "dbnraw = bngain * dhpreact\n",
    "dbnbias = dhpreact.sum(dim=0, keepdim=True)\n",
    "dbnstdinv = (bndiff * dbnraw).sum(dim=0, keepdim=True)\n",
    "dbnvar = -0.5*(bnvar + 1e-5)**-1.5 * dbnstdinv\n",
    "dbndiff2 = 1.0/(batch_size-1) * torch.ones_like(bndiff2) * dbnvar\n",
    "dbndiff = bnstdinv * dbnraw\n",
    "dbndiff += 2*bndiff * dbndiff2\n",
    "dbnmeani = -dbndiff.sum(dim=0, keepdim=True)\n",
    "dhprebn = dbndiff + 1.0/batch_size * torch.ones_like(hprebn) * dbnmeani\n",
    "dembcat = dhprebn @ W1.T\n",
    "dW1 = embcat.T @ dhprebn\n",
    "db1 = dhprebn.sum(dim=0, keepdim=True)\n",
    "demb = dembcat.view(emb.shape)\n",
    "dC = torch.zeros_like(C)\n",
    "for i in range(batch_size):\n",
    "    for j in range(block_size):\n",
    "        k = Xb[i,j]\n",
    "        dC[k] += demb[i, j]\n",
    "\n",
    "cmp('dlogprops', dlogprops, logprobs)\n",
    "cmp('dprobs', dprobs, probs)\n",
    "cmp('dcountsuminv', dcountsuminv, countsuminv)\n",
    "cmp('dcountsum', dcountsum, countsum)\n",
    "cmp('dcounts', dcounts, counts)\n",
    "cmp('dnormlogits', dnormlogits, normlogits)\n",
    "cmp('dlogitsmax', dlogitsmax, logitsmax)\n",
    "cmp('dlogits', dlogits, logits)\n",
    "cmp('dh', dh, h)\n",
    "cmp('dW2', dW2, W2)\n",
    "cmp('db2', db2, b2)\n",
    "cmp('dhpreact', dhpreact, hpreact)\n",
    "cmp('dbngain', dbngain, bngain)\n",
    "cmp('dbnraw', dbnraw, bnraw)\n",
    "cmp('dbnbias', dbnbias, bnbias)\n",
    "cmp('dbnstdinv', dbnstdinv, bnstdinv)\n",
    "cmp('dbnvar', dbnvar, bnvar)\n",
    "cmp('dbndiff2', dbndiff2, bndiff2)\n",
    "cmp('dbndiff', dbndiff, bndiff)\n",
    "cmp('dbnmeani', dbnmeani, bnmeani)\n",
    "cmp('dhprebn', dhprebn, hprebn)\n",
    "cmp('dembcat', dembcat, embcat)\n",
    "cmp('dW1', dW1, W1)\n",
    "cmp('db1', db1, b1)\n",
    "cmp('demb', demb, emb)\n",
    "cmp('dC', dC, C)"
   ]
  },
  {
   "cell_type": "code",
   "execution_count": 10,
   "metadata": {},
   "outputs": [
    {
     "name": "stdout",
     "output_type": "stream",
     "text": [
      "3.3146891593933105 3.3146886825561523 diff: 4.76837158203125e-07\n"
     ]
    }
   ],
   "source": [
    "loss_fast = F.cross_entropy(logits, Yb)\n",
    "print(loss.item(), loss_fast.item(), 'diff:', (loss - loss_fast).item())\n"
   ]
  },
  {
   "cell_type": "code",
   "execution_count": 11,
   "metadata": {},
   "outputs": [
    {
     "name": "stdout",
     "output_type": "stream",
     "text": [
      "torch.Size([32, 27]) torch.Size([32, 27])\n",
      "diff: 6.6356733441352844e-09\n"
     ]
    }
   ],
   "source": [
    "print(logits.shape, dlogits.shape)\n",
    "dlogits_fast = F.softmax(logits, dim=1)\n",
    "dlogits_fast[torch.arange(batch_size), Yb] -= 1\n",
    "dlogits_fast /= batch_size\n",
    "print('diff:', (dlogits - dlogits_fast).max().item())"
   ]
  },
  {
   "cell_type": "code",
   "execution_count": 12,
   "metadata": {},
   "outputs": [
    {
     "data": {
      "text/plain": [
       "tensor([ 0.0011, -0.0298,  0.0011,  0.0012,  0.0012,  0.0011,  0.0011,  0.0011,\n",
       "         0.0012,  0.0012,  0.0013,  0.0010,  0.0011,  0.0010,  0.0011,  0.0011,\n",
       "         0.0012,  0.0010,  0.0009,  0.0011,  0.0014,  0.0013,  0.0013,  0.0011,\n",
       "         0.0010,  0.0013,  0.0013], grad_fn=<SelectBackward0>)"
      ]
     },
     "execution_count": 12,
     "metadata": {},
     "output_type": "execute_result"
    },
    {
     "data": {
      "image/png": "[encoded data removed]",
      "text/plain": [
       "<Figure size 800x800 with 1 Axes>"
      ]
     },
     "metadata": {},
     "output_type": "display_data"
    }
   ],
   "source": [
    "plt.figure(figsize=(8,8))\n",
    "plt.imshow(dlogits.detach(), cmap='gray')\n",
    "dlogits[0]"
   ]
  },
  {
   "cell_type": "code",
   "execution_count": 22,
   "metadata": {},
   "outputs": [
    {
     "name": "stdout",
     "output_type": "stream",
     "text": [
      "bngain diff: 6.05359673500061e-09\n",
      "bnbias diff: 0.0\n",
      "torch.Size([32, 200]) torch.Size([1, 200]) torch.Size([32, 200])\n"
     ]
    }
   ],
   "source": [
    "dbngain_fast = (((hprebn - hprebn.mean(dim=0, keepdim=True)) / hprebn.std(dim=0, keepdim=True)) * dhpreact).sum(dim=0, keepdim=True)\n",
    "dbnbias_fast = dhpreact.sum(dim=0, keepdim=True)\n",
    "# dhprebn_fast += bngain * (hprebn - bnmeani) * -bnstdinv**2 * 2/(batch_size-1) * (hprebn - bnmeani).sum(dim=0, keepdim=True) * (1.0 - 1.0/batch_size) * dhpreact\n",
    "print('bngain diff:', (dbngain - dbngain_fast).max().item())\n",
    "print('bnbias diff:', (dbnbias - dbnbias_fast).max().item())\n",
    "print(dhprebn.shape, bngain.shape, hprebn.shape)"
   ]
  },
  {
   "cell_type": "code",
   "execution_count": 18,
   "metadata": {},
   "outputs": [
    {
     "name": "stdout",
     "output_type": "stream",
     "text": [
      "torch.Size([1, 200]) torch.Size([1, 200])\n",
      "bnvar diff: 7.043126970529556e-09\n"
     ]
    }
   ],
   "source": [
    "dbnvar_fast = (dhpreact * (-0.5*bngain * bndiff * bnvar**-1.5)).sum(dim=0, keepdim=True)\n",
    "print(dbnvar_fast.shape, dbnvar.shape)\n",
    "print('bnvar diff:', ((dbnvar_fast - dbnvar).max().item()))"
   ]
  },
  {
   "cell_type": "code",
   "execution_count": 19,
   "metadata": {},
   "outputs": [
    {
     "name": "stdout",
     "output_type": "stream",
     "text": [
      "bnmean diff: 2.60770320892334e-08\n"
     ]
    }
   ],
   "source": [
    "dbnmean_fast = (dhpreact * -bngain * bnvar**-0.5).sum(dim=0, keepdim=True)\n",
    "print('bnmean diff:', (dbnmean_fast - dbnmeani).max().item())"
   ]
  },
  {
   "cell_type": "code",
   "execution_count": 21,
   "metadata": {},
   "outputs": [
    {
     "name": "stdout",
     "output_type": "stream",
     "text": [
      "torch.Size([32, 200]) torch.Size([32, 200]) torch.Size([1, 200]) torch.Size([32, 200])\n",
      "hprebn diff: 5.820766091346741e-09\n"
     ]
    }
   ],
   "source": [
    "temp1 = dhpreact * bngain * bnvar**-0.5\n",
    "temp2 = dbnmean_fast * 1/batch_size * torch.ones_like(hprebn)\n",
    "temp3 = dbnvar_fast * 2/(batch_size-1) * bndiff\n",
    "dhprebn_fast = temp1 + temp2 + temp3\n",
    "print(dhprebn.shape, dhprebn_fast.shape, bngain.shape, hprebn.shape)\n",
    "print('hprebn diff:', (dhprebn - dhprebn_fast).max().item())"
   ]
  },
  {
   "cell_type": "code",
   "execution_count": 27,
   "metadata": {},
   "outputs": [
    {
     "name": "stdout",
     "output_type": "stream",
     "text": [
      "12297\n",
      "dlogits         | exact: False | approximate: True  | maxdiff: 1.862645149230957e-09\n",
      "dh              | exact: False | approximate: True  | maxdiff: 1.7462298274040222e-10\n",
      "dW2             | exact: False | approximate: True  | maxdiff: 1.4901161193847656e-08\n",
      "db2             | exact: False | approximate: True  | maxdiff: 7.450580596923828e-09\n",
      "dhpreact        | exact: False | approximate: True  | maxdiff: 1.1641532182693481e-10\n",
      "dbngain         | exact: False | approximate: True  | maxdiff: 2.9103830456733704e-10\n",
      "dbnraw          | exact: False | approximate: True  | maxdiff: 5.820766091346741e-11\n",
      "dbnbias         | exact: False | approximate: True  | maxdiff: 4.656612873077393e-10\n",
      "dhprebn         | exact: False | approximate: True  | maxdiff: 1.4551915228366852e-10\n",
      "dembcat         | exact: False | approximate: True  | maxdiff: 5.820766091346741e-10\n",
      "dW1             | exact: False | approximate: True  | maxdiff: 9.313225746154785e-10\n",
      "db1             | exact: False | approximate: True  | maxdiff: 5.456968210637569e-10\n",
      "demb            | exact: False | approximate: True  | maxdiff: 5.820766091346741e-10\n",
      "dC              | exact: False | approximate: True  | maxdiff: 1.3969838619232178e-09\n"
     ]
    }
   ],
   "source": [
    "import torch\n",
    "import torch.nn.functional as F\n",
    "\n",
    "batch_size = 32\n",
    "ix = torch.randint(0, Xtr.shape[0], (batch_size,), generator=g)\n",
    "Xb = Xtr[ix]\n",
    "Yb = Ytr[ix]\n",
    "\n",
    "parameters = [C, W1, b1, W2, b2, bngain, bnbias]\n",
    "print(sum(p.nelement() for p in parameters))\n",
    "for p in parameters:\n",
    "    p.requires_grad = True    \n",
    "\n",
    "# forward pass\n",
    "emb = C[Xb] # embed the characters into vectors - (batch_size x block_size x n_embed)\n",
    "embcat = emb.view(emb.shape[0], -1) # concatenate the vectors - (batch_size x (block_size x n_embed))\n",
    "hprebn = embcat @ W1 + b1 # hidden layer pre-activation - (batch_size x n_hidden)\n",
    "hpreact = bngain * (hprebn - hprebn.mean(dim=0, keepdim=True))/hprebn.std(dim=0, keepdim=True) + bnbias # batch-norm\n",
    "h = torch.tanh(hpreact) # hidden layer - (batch_size x n_hidden)\n",
    "logits = h @ W2 + b2 # output layer - (batch_size x vocab_size)\n",
    "loss = F.cross_entropy(logits, Yb)\n",
    "\n",
    "\n",
    "for t in [C, W1, b1, W2, b2, bngain, bnbias, emb, embcat, hprebn, hpreact, h, logits, loss]:\n",
    "    t.retain_grad()\n",
    "loss.backward()\n",
    "\n",
    "# backward pass\n",
    "dlogits = F.softmax(logits, dim=1)\n",
    "dlogits[torch.arange(batch_size), Yb] -= 1\n",
    "dlogits /= batch_size\n",
    "# output layer\n",
    "dh = dlogits @ W2.T\n",
    "dW2 = h.T @ dlogits\n",
    "db2 = dlogits.sum(dim=0, keepdim=True)\n",
    "# tanh\n",
    "dhpreact = (1.0 - h**2) * dh\n",
    "# batch-norm\n",
    "bndiff = hprebn - hprebn.mean(dim=0, keepdim=True)\n",
    "bnvar = hprebn.var(dim=0, keepdim=True)\n",
    "dbngain = ((bndiff / hprebn.std(dim=0, keepdim=True)) * dhpreact).sum(dim=0, keepdim=True)\n",
    "dbnbias = dhpreact.sum(dim=0, keepdim=True)\n",
    "dbnvar = (dhpreact * (-0.5*bngain * bndiff * bnvar**-1.5)).sum(dim=0, keepdim=True)\n",
    "dbnmean = (dhpreact * -bngain * bnvar**-0.5).sum(dim=0, keepdim=True)\n",
    "temp1 = dhpreact * bngain * bnvar**-0.5\n",
    "temp2 = dbnmean * 1/batch_size * torch.ones_like(hprebn)\n",
    "temp3 = dbnvar * 2/(batch_size-1) * bndiff\n",
    "dhprebn = temp1 + temp2 + temp3\n",
    "# hidden layers\n",
    "dembcat = dhprebn @ W1.T\n",
    "dW1 = embcat.T @ dhprebn\n",
    "db1 = dhprebn.sum(dim=0, keepdim=True)\n",
    "# input layer\n",
    "demb = dembcat.view(emb.shape)\n",
    "dC = torch.zeros_like(C)\n",
    "for i in range(batch_size):\n",
    "    for j in range(block_size):\n",
    "        k = Xb[i,j]\n",
    "        dC[k] += demb[i, j]\n",
    "\n",
    "\n",
    "cmp('dlogits', dlogits, logits)\n",
    "cmp('dh', dh, h)\n",
    "cmp('dW2', dW2, W2)\n",
    "cmp('db2', db2, b2)\n",
    "cmp('dhpreact', dhpreact, hpreact)\n",
    "cmp('dbngain', dbngain, bngain)\n",
    "cmp('dbnraw', dbnraw, bnraw)\n",
    "cmp('dbnbias', dbnbias, bnbias)\n",
    "cmp('dhprebn', dhprebn, hprebn)\n",
    "cmp('dembcat', dembcat, embcat)\n",
    "cmp('dW1', dW1, W1)\n",
    "cmp('db1', db1, b1)\n",
    "cmp('demb', demb, emb)\n",
    "cmp('dC', dC, C)"
   ]
  },
  {
   "cell_type": "code",
   "execution_count": null,
   "metadata": {},
   "outputs": [],
   "source": [
    "import torch\n",
    "import torch.nn.functional as F\n",
    "\n",
    "batch_size = 32\n",
    "ix = torch.randint(0, Xtr.shape[0], (batch_size,), generator=g)\n",
    "Xb = Xtr[ix]\n",
    "Yb = Ytr[ix]\n",
    "\n",
    "parameters = [C, W1, b1, W2, b2, bngain, bnbias]\n",
    "print(sum(p.nelement() for p in parameters))\n",
    "for p in parameters:\n",
    "    p.requires_grad = True\n",
    "    p.grad = None\n",
    "\n",
    "# forward pass\n",
    "emb = C[Xb] # embed the characters into vectors - (batch_size x block_size x n_embed)\n",
    "embcat = emb.view(emb.shape[0], -1) # concatenate the vectors - (batch_size x (block_size x n_embed))\n",
    "hprebn = embcat @ W1 + b1 # hidden layer pre-activation - (batch_size x n_hidden)\n",
    "hpreact = bngain * (hprebn - hprebn.mean(dim=0, keepdim=True))/hprebn.std(dim=0, keepdim=True) + bnbias # batch-norm\n",
    "h = torch.tanh(hpreact) # hidden layer - (batch_size x n_hidden)\n",
    "logits = h @ W2 + b2 # output layer - (batch_size x vocab_size)\n",
    "loss = F.cross_entropy(logits, Yb)\n",
    "\n",
    "\n",
    "for t in [C, W1, b1, W2, b2, bngain, bnbias, emb, embcat, hprebn, hpreact, h, logits, loss]:\n",
    "    t.retain_grad()\n",
    "loss.backward()\n",
    "\n",
    "# backward pass\n",
    "dlogits = F.softmax(logits, dim=1)\n",
    "dlogits[torch.arange(batch_size), Yb] -= 1\n",
    "dlogits /= batch_size\n",
    "# output layer\n",
    "dh = dlogits @ W2.T\n",
    "dW2 = h.T @ dlogits\n",
    "db2 = dlogits.sum(dim=0, keepdim=True)\n",
    "# tanh\n",
    "dhpreact = (1.0 - h**2) * dh\n",
    "# batch-norm\n",
    "bndiff = hprebn - hprebn.mean(dim=0, keepdim=True)\n",
    "bnvar = hprebn.var(dim=0, keepdim=True)\n",
    "dbngain = ((bndiff / hprebn.std(dim=0, keepdim=True)) * dhpreact).sum(dim=0, keepdim=True)\n",
    "dbnbias = dhpreact.sum(dim=0, keepdim=True)\n",
    "dbnvar = (dhpreact * (-0.5*bngain * bndiff * bnvar**-1.5)).sum(dim=0, keepdim=True)\n",
    "dbnmean = (dhpreact * -bngain * bnvar**-0.5).sum(dim=0, keepdim=True)\n",
    "temp1 = dhpreact * bngain * bnvar**-0.5\n",
    "temp2 = dbnmean * 1/batch_size * torch.ones_like(hprebn)\n",
    "temp3 = dbnvar * 2/(batch_size-1) * bndiff\n",
    "dhprebn = temp1 + temp2 + temp3\n",
    "# hidden layers\n",
    "dembcat = dhprebn @ W1.T\n",
    "dW1 = embcat.T @ dhprebn\n",
    "db1 = dhprebn.sum(dim=0, keepdim=True)\n",
    "# input layer\n",
    "demb = dembcat.view(emb.shape)\n",
    "dC = torch.zeros_like(C)\n",
    "for i in range(batch_size):\n",
    "    for j in range(block_size):\n",
    "        k = Xb[i,j]\n",
    "        dC[k] += demb[i, j]\n",
    "\n",
    "\n",
    "cmp('dlogits', dlogits, logits)\n",
    "cmp('dh', dh, h)\n",
    "cmp('dW2', dW2, W2)\n",
    "cmp('db2', db2, b2)\n",
    "cmp('dhpreact', dhpreact, hpreact)\n",
    "cmp('dbngain', dbngain, bngain)\n",
    "cmp('dbnraw', dbnraw, bnraw)\n",
    "cmp('dbnbias', dbnbias, bnbias)\n",
    "cmp('dhprebn', dhprebn, hprebn)\n",
    "cmp('dembcat', dembcat, embcat)\n",
    "cmp('dW1', dW1, W1)\n",
    "cmp('db1', db1, b1)\n",
    "cmp('demb', demb, emb)\n",
    "cmp('dC', dC, C)"
   ]
  }
 ],
 "metadata": {
  "kernelspec": {
   "display_name": "coding",
   "language": "python",
   "name": "python3"
  },
  "language_info": {
   "codemirror_mode": {
    "name": "ipython",
    "version": 3
   },
   "file_extension": ".py",
   "mimetype": "text/x-python",
   "name": "python",
   "nbconvert_exporter": "python",
   "pygments_lexer": "ipython3",
   "version": "3.12.4"
  }
 },
 "nbformat": 4,
 "nbformat_minor": 2
}
