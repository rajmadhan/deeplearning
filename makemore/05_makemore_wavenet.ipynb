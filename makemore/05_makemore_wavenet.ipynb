{
 "cells": [
  {
   "cell_type": "code",
   "execution_count": 1,
   "metadata": {},
   "outputs": [],
   "source": [
    "import torch\n",
    "import torch.nn.functional as F\n",
    "import matplotlib.pyplot as plt\n",
    "%matplotlib inline\n",
    "import numpy as np"
   ]
  },
  {
   "cell_type": "code",
   "execution_count": 2,
   "metadata": {},
   "outputs": [
    {
     "data": {
      "text/plain": [
       "['emma',\n",
       " 'olivia',\n",
       " 'ava',\n",
       " 'isabella',\n",
       " 'sophia',\n",
       " 'charlotte',\n",
       " 'mia',\n",
       " 'amelia',\n",
       " 'harper',\n",
       " 'evelyn']"
      ]
     },
     "execution_count": 2,
     "metadata": {},
     "output_type": "execute_result"
    }
   ],
   "source": [
    "words = open('names.txt', 'r').read().splitlines()\n",
    "words[:10]"
   ]
  },
  {
   "cell_type": "code",
   "execution_count": 3,
   "metadata": {},
   "outputs": [
    {
     "data": {
      "text/plain": [
       "32033"
      ]
     },
     "execution_count": 3,
     "metadata": {},
     "output_type": "execute_result"
    }
   ],
   "source": [
    "len(words)"
   ]
  },
  {
   "cell_type": "code",
   "execution_count": 4,
   "metadata": {},
   "outputs": [
    {
     "name": "stdout",
     "output_type": "stream",
     "text": [
      "['a', 'b', 'c', 'd', 'e', 'f', 'g', 'h', 'i', 'j', 'k', 'l', 'm', 'n', 'o', 'p', 'q', 'r', 's', 't', 'u', 'v', 'w', 'x', 'y', 'z']\n",
      "{1: 'a', 2: 'b', 3: 'c', 4: 'd', 5: 'e', 6: 'f', 7: 'g', 8: 'h', 9: 'i', 10: 'j', 11: 'k', 12: 'l', 13: 'm', 14: 'n', 15: 'o', 16: 'p', 17: 'q', 18: 'r', 19: 's', 20: 't', 21: 'u', 22: 'v', 23: 'w', 24: 'x', 25: 'y', 26: 'z', 0: '.'}\n"
     ]
    }
   ],
   "source": [
    "chars = sorted(list(set(''.join(words))))\n",
    "print(chars)\n",
    "stoi = {s: i+1 for i,s in enumerate(chars)}\n",
    "stoi['.'] = 0\n",
    "itos = {i: s for s,i in stoi.items()}\n",
    "print(itos)\n",
    "vocab_size = len(itos)"
   ]
  },
  {
   "cell_type": "markdown",
   "metadata": {},
   "source": [
    "### build the dataset"
   ]
  },
  {
   "cell_type": "code",
   "execution_count": 5,
   "metadata": {},
   "outputs": [],
   "source": [
    "device = torch.device('cpu')\n",
    "# device = torch.device('cuda')"
   ]
  },
  {
   "cell_type": "code",
   "execution_count": 6,
   "metadata": {},
   "outputs": [
    {
     "name": "stdout",
     "output_type": "stream",
     "text": [
      "torch.int64 torch.Size([182625, 8]) torch.int64 torch.Size([182625])\n",
      "torch.int64 torch.Size([22655, 8]) torch.int64 torch.Size([22655])\n",
      "torch.int64 torch.Size([22866, 8]) torch.int64 torch.Size([22866])\n"
     ]
    }
   ],
   "source": [
    "block_size = 8\n",
    "def build_dataset(words):\n",
    "    X, Y = [], []\n",
    "    for w in words:\n",
    "        # print(w)\n",
    "        context = [0]*block_size\n",
    "        for ch in w + '.':\n",
    "            ix = stoi[ch]\n",
    "            X.append(context)\n",
    "            Y.append(ix)\n",
    "            # print(''.join(itos[i] for i in context), '---->', itos[ix])\n",
    "            context = context[1:] + [ix]\n",
    "\n",
    "    X = torch.tensor(X).to(device)\n",
    "    Y = torch.tensor(Y).to(device)\n",
    "    print(X.dtype, X.shape, Y.dtype, Y.shape)\n",
    "    return X, Y\n",
    "\n",
    "import random\n",
    "random.seed(42)\n",
    "random.shuffle(words)\n",
    "n1 = int(0.8*len(words))\n",
    "n2 = int(0.9*len(words))\n",
    "Xtr, Ytr = build_dataset(words[:n1])        # 80%\n",
    "Xdev, Ydev = build_dataset(words[n1:n2])    # 10%\n",
    "Xte, Yte = build_dataset(words[n2:])        # 10%"
   ]
  },
  {
   "cell_type": "code",
   "execution_count": 7,
   "metadata": {},
   "outputs": [
    {
     "name": "stdout",
     "output_type": "stream",
     "text": [
      "........ --> y\n",
      ".......y --> u\n",
      "......yu --> h\n",
      ".....yuh --> e\n",
      "....yuhe --> n\n",
      "...yuhen --> g\n",
      "..yuheng --> .\n",
      "........ --> d\n",
      ".......d --> i\n",
      "......di --> o\n",
      ".....dio --> n\n",
      "....dion --> d\n",
      "...diond --> r\n",
      "..diondr --> e\n",
      ".diondre --> .\n",
      "........ --> x\n",
      ".......x --> a\n",
      "......xa --> v\n",
      ".....xav --> i\n",
      "....xavi --> e\n"
     ]
    }
   ],
   "source": [
    "for x,y in zip(Xtr[:20], Ytr[:20]):\n",
    "  print(''.join(itos[ix.item()] for ix in x), '-->', itos[y.item()])"
   ]
  },
  {
   "cell_type": "markdown",
   "metadata": {},
   "source": [
    "### custom layers using pytorch"
   ]
  },
  {
   "cell_type": "code",
   "execution_count": 8,
   "metadata": {},
   "outputs": [],
   "source": [
    "class Linear:\n",
    "    def __init__(self, fanin, fanout, bias=True, device='cpu') -> None:\n",
    "        self.W = torch.randn((fanin, fanout), device=device) / fanin**0.5\n",
    "        self.b = torch.zeros(fanout) if bias else None\n",
    "\n",
    "    def to(self, device):\n",
    "        self.W = self.W.to(device)\n",
    "        if self.b is not None:\n",
    "            self.b = self.b.to(device)\n",
    "        return self\n",
    "\n",
    "    def __call__(self, x) -> torch.tensor:\n",
    "        self.out = x @ self.W\n",
    "        if self.b is not None:\n",
    "            self.out += self.b          \n",
    "        return self.out    \n",
    "\n",
    "    def parameters(self) -> list:\n",
    "        params = [self.W] + ([self.b] if self.b is not None else [])\n",
    "        return params\n",
    "\n",
    "class BatchNorm1D:\n",
    "    def __init__(self, dim, eps=1e-5, momentum=0.1, device='cpu') -> None:\n",
    "        self.gamma = torch.ones(dim, device=device)\n",
    "        self.beta = torch.zeros(dim, device=device)\n",
    "        self.eps = eps\n",
    "        self.momentum = momentum\n",
    "        self.training = True\n",
    "        self.running_mean = torch.zeros(dim, device=device)\n",
    "        self.running_var = torch.ones(dim, device=device)\n",
    "    \n",
    "    def to(self, device):\n",
    "        self.gamma = self.gamma.to(device)\n",
    "        self.beta = self.beta.to(device)\n",
    "        self.running_mean = self.running_mean.to(device)\n",
    "        self.running_var = self.running_var.to(device)\n",
    "        return self\n",
    "\n",
    "    def __call__(self, x) -> torch.tensor:\n",
    "        if self.training:\n",
    "            if x.ndim == 2:\n",
    "                dim = 0\n",
    "            elif x.ndim == 3:\n",
    "                dim = (0, 1)\n",
    "            xmean = x.mean(dim=dim, keepdim=True)\n",
    "            xvar = x.var(dim=dim, keepdim=True)\n",
    "        else:\n",
    "            xmean = self.running_mean\n",
    "            xvar = self.running_var\n",
    "\n",
    "        xhat = (x - xmean)/torch.sqrt(xvar + self.eps)\n",
    "        self.out = self.gamma * xhat + self.beta\n",
    "\n",
    "        if self.training:\n",
    "            with torch.no_grad():\n",
    "                self.running_mean = (1 - self.momentum) * self.running_mean + self.momentum * xmean\n",
    "                self.running_var = (1 - self.momentum) * self.running_var + self.momentum * xvar\n",
    "        return self.out\n",
    "    \n",
    "    def parameters(self):\n",
    "        params = [self.gamma, self.beta]\n",
    "        return params\n",
    "    \n",
    "class Tanh:\n",
    "    def __call__(self, x):\n",
    "        self.out = torch.tanh(x)\n",
    "        return self.out\n",
    "    def to(self, device):\n",
    "        return self\n",
    "    def parameters(self):\n",
    "        return []\n",
    "    \n",
    "class Embedding:\n",
    "    def __init__(self, fanin, fanout, device='cpu') -> None:\n",
    "        self.W = torch.randn((fanin, fanout), device=device) / fanin**0.5\n",
    "    \n",
    "    def to(self, device):\n",
    "        self.W = self.W.to(device)\n",
    "        return self\n",
    "\n",
    "    def __call__(self, x) -> torch.tensor:\n",
    "        self.out = self.W[x]\n",
    "        return self.out    \n",
    "    \n",
    "    def parameters(self):\n",
    "        return [self.W]    \n",
    "\n",
    "class FlattenConsecutive:\n",
    "    def __init__(self, n) -> None:\n",
    "        self.n = n\n",
    "\n",
    "    def to(self, device):\n",
    "        return self\n",
    "    \n",
    "    def __call__(self, x) -> torch.tensor:\n",
    "        B, T, C = x.shape\n",
    "        x = x.view(B, T//self.n, C*self.n)\n",
    "        if x.shape[1] == 1: x = x.squeeze(1)\n",
    "        self.out = x\n",
    "        return self.out\n",
    "    \n",
    "    def parameters(self):\n",
    "        return []\n",
    "\n",
    "class Sequential:\n",
    "    def __init__(self, layers) -> None:\n",
    "        self.layers = layers\n",
    "    \n",
    "    def to(self, device):\n",
    "        for layer in self.layers:\n",
    "            layer.to(device)\n",
    "        return self\n",
    "    \n",
    "    def __call__(self, x) -> torch.tensor:\n",
    "        for layer in self.layers:\n",
    "            x = layer(x)\n",
    "        self.out = x\n",
    "        return self.out\n",
    "    \n",
    "    def parameters(self) -> list:\n",
    "        params = [p for layer in self.layers for p in layer.parameters()]\n",
    "        return params"
   ]
  },
  {
   "cell_type": "markdown",
   "metadata": {},
   "source": [
    "### implementing n/w using the custom layers"
   ]
  },
  {
   "cell_type": "code",
   "execution_count": 9,
   "metadata": {},
   "outputs": [
    {
     "name": "stdout",
     "output_type": "stream",
     "text": [
      "76579\n"
     ]
    }
   ],
   "source": [
    "torch.manual_seed(42)\n",
    "\n",
    "n_embd = 24\n",
    "n_hidden = 128\n",
    "\n",
    "model = Sequential([\n",
    "    Embedding(vocab_size, n_embd),\n",
    "    FlattenConsecutive(2), Linear(2*n_embd, n_hidden, bias=False), BatchNorm1D(n_hidden), Tanh(),\n",
    "    FlattenConsecutive(2), Linear(2*n_hidden, n_hidden, bias=False), BatchNorm1D(n_hidden), Tanh(),\n",
    "    FlattenConsecutive(2), Linear(2*n_hidden, n_hidden, bias=False), BatchNorm1D(n_hidden), Tanh(),\n",
    "    Linear(n_hidden, vocab_size)\n",
    "    ])#.to(device)\n",
    "\n",
    "with torch.no_grad():\n",
    "    model.layers[-1].W *= 0.1\n",
    "    # model.layers[-1].weight *= 0.1\n",
    "\n",
    "print(sum(p.nelement() for p in model.parameters()))\n",
    "for p in model.parameters():\n",
    "    p.requires_grad = True"
   ]
  },
  {
   "cell_type": "code",
   "execution_count": 10,
   "metadata": {},
   "outputs": [
    {
     "name": "stdout",
     "output_type": "stream",
     "text": [
      "torch.Size([4, 27])\n"
     ]
    }
   ],
   "source": [
    "g = torch.Generator().manual_seed(2147483647)\n",
    "batch_size = 4\n",
    "ix = torch.randint(0, Xtr.shape[0], (batch_size,), generator=g).to(device)\n",
    "Xb = Xtr[ix]\n",
    "Yb = Ytr[ix]\n",
    "out = model(Xb)\n",
    "print(out.shape)"
   ]
  },
  {
   "cell_type": "code",
   "execution_count": 11,
   "metadata": {},
   "outputs": [
    {
     "name": "stdout",
     "output_type": "stream",
     "text": [
      "      0/ 200000: 3.3167\n"
     ]
    },
    {
     "name": "stdout",
     "output_type": "stream",
     "text": [
      "  10000/ 200000: 2.0749\n",
      "  20000/ 200000: 2.1020\n",
      "  30000/ 200000: 2.6667\n",
      "  40000/ 200000: 2.1537\n",
      "  50000/ 200000: 1.7197\n",
      "  60000/ 200000: 2.2295\n",
      "  70000/ 200000: 1.8731\n",
      "  80000/ 200000: 1.7196\n",
      "  90000/ 200000: 1.9765\n",
      " 100000/ 200000: 1.7598\n",
      " 110000/ 200000: 2.0315\n",
      " 120000/ 200000: 1.6305\n",
      " 130000/ 200000: 1.7177\n",
      " 140000/ 200000: 1.9628\n",
      " 150000/ 200000: 1.8360\n",
      " 160000/ 200000: 1.7166\n",
      " 170000/ 200000: 1.5738\n",
      " 180000/ 200000: 1.7398\n",
      " 190000/ 200000: 2.0010\n",
      " 199999/ 200000: 1.9260\n"
     ]
    }
   ],
   "source": [
    "#torch.manual_seed(42)\n",
    "max_steps = 200000\n",
    "batch_size = 32\n",
    "lossi = []\n",
    "\n",
    "for i in range(max_steps):\n",
    "    ix = torch.randint(0, Xtr.shape[0], (batch_size,))\n",
    "    Xb, Yb = Xtr[ix], Ytr[ix] # batch X, Y\n",
    "    \n",
    "    # forward pass\n",
    "    logits = model(Xb)\n",
    "    loss = F.cross_entropy(logits, Yb) # loss function\n",
    "\n",
    "    # backward pass\n",
    "    for p in model.parameters():\n",
    "        p.grad = None\n",
    "    loss.backward()\n",
    "\n",
    "    # update gradient\n",
    "    lr = 0.1 if i < 150000 else 0.01\n",
    "    for p in model.parameters():\n",
    "        p.data -= lr * p.grad\n",
    "    \n",
    "    # track stats\n",
    "    if i % 10000 == 0 or i == max_steps-1: # print every once in a while\n",
    "        print(f'{i:7d}/{max_steps:7d}: {loss.item():.4f}')\n",
    "    lossi.append(loss.log10().item())\n",
    "    #break"
   ]
  },
  {
   "cell_type": "code",
   "execution_count": 34,
   "metadata": {},
   "outputs": [],
   "source": [
    "torch.save(model, 'makemore_wavenet.pt')"
   ]
  },
  {
   "cell_type": "code",
   "execution_count": 12,
   "metadata": {},
   "outputs": [
    {
     "data": {
      "text/plain": [
       "[<matplotlib.lines.Line2D at 0x7bf7c81b1ee0>]"
      ]
     },
     "execution_count": 12,
     "metadata": {},
     "output_type": "execute_result"
    },
    {
     "data": {
      "image/png": "[encoded data removed]",
      "text/plain": [
       "<Figure size 640x480 with 1 Axes>"
      ]
     },
     "metadata": {},
     "output_type": "display_data"
    }
   ],
   "source": [
    "plt.plot(torch.tensor(lossi).view(-1, 1000).mean(1))"
   ]
  },
  {
   "cell_type": "code",
   "execution_count": 15,
   "metadata": {},
   "outputs": [],
   "source": [
    "for layer in model.layers:\n",
    "    layer.training = False\n",
    "    # for p in layer.parameters():\n",
    "    #     print(layer.__class__.__name__, p.nelement())"
   ]
  },
  {
   "cell_type": "code",
   "execution_count": 16,
   "metadata": {},
   "outputs": [
    {
     "name": "stdout",
     "output_type": "stream",
     "text": [
      "train 1.7697029113769531\n",
      "val 1.9895057678222656\n"
     ]
    }
   ],
   "source": [
    "@torch.no_grad() # disable gradient tracking\n",
    "def split_loss(split):\n",
    "    x, y = {'train': (Xtr, Ytr),\n",
    "            'val': (Xdev, Ydev),\n",
    "            'test': (Xte, Yte)}[split]\n",
    "    logits = model(x)\n",
    "    loss = F.cross_entropy(logits, y)\n",
    "    print(split, loss.item())\n",
    "\n",
    "split_loss('train')\n",
    "split_loss('val')"
   ]
  },
  {
   "cell_type": "code",
   "execution_count": 33,
   "metadata": {},
   "outputs": [
    {
     "name": "stdout",
     "output_type": "stream",
     "text": [
      "yessy\n",
      "havilynn\n",
      "legolin\n",
      "maryda\n",
      "trysten\n",
      "hendersen\n",
      "patrice\n",
      "abdihas\n",
      "louisophael\n",
      "kimpur\n"
     ]
    }
   ],
   "source": [
    "torch.manual_seed(42)\n",
    "for _ in range(10):\n",
    "    x = [0]*block_size\n",
    "    out = []\n",
    "    while True:\n",
    "        logits = model(torch.tensor(x, dtype=torch.long).reshape((1, -1)))\n",
    "        counts = logits.exp()\n",
    "        p = counts / counts.sum(dim=1, keepdim=True)\n",
    "        ix = torch.multinomial(p, num_samples=1, replacement=True).item()\n",
    "        out.append(itos[ix])\n",
    "        if ix == 0:\n",
    "            break\n",
    "        x = x[1:] + [ix]\n",
    "    print(''.join(out[:-1]))"
   ]
  }
 ],
 "metadata": {
  "kernelspec": {
   "display_name": "coding",
   "language": "python",
   "name": "python3"
  },
  "language_info": {
   "codemirror_mode": {
    "name": "ipython",
    "version": 3
   },
   "file_extension": ".py",
   "mimetype": "text/x-python",
   "name": "python",
   "nbconvert_exporter": "python",
   "pygments_lexer": "ipython3",
   "version": "3.12.4"
  }
 },
 "nbformat": 4,
 "nbformat_minor": 2
}
